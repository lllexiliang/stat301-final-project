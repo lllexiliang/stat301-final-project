{
 "cells": [
  {
   "cell_type": "markdown",
   "id": "33e400e9-0f91-40db-8e33-0959f97daf7e",
   "metadata": {},
   "source": [
    "# Final Project"
   ]
  },
  {
   "cell_type": "markdown",
   "id": "54526d7d-583a-40ff-8f94-b775c9ee007d",
   "metadata": {},
   "source": [
    "group 3"
   ]
  },
  {
   "cell_type": "markdown",
   "id": "a64d53bf-4170-4dd5-9d60-90544fdfd133",
   "metadata": {},
   "source": [
    "1)lexi\n",
    "2）Dominique"
   ]
  },
  {
   "cell_type": "code",
   "execution_count": null,
   "id": "d1f0a6be-1e62-4442-8390-efbf0006a085",
   "metadata": {},
   "outputs": [],
   "source": []
  }
 ],
 "metadata": {
  "kernelspec": {
   "display_name": "R",
   "language": "R",
   "name": "ir"
  },
  "language_info": {
   "codemirror_mode": "r",
   "file_extension": ".r",
   "mimetype": "text/x-r-source",
   "name": "R",
   "pygments_lexer": "r",
   "version": "4.3.3"
  }
 },
 "nbformat": 4,
 "nbformat_minor": 5
}
