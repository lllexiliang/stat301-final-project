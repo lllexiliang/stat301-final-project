{
 "cells": [
  {
   "cell_type": "markdown",
   "id": "33e400e9-0f91-40db-8e33-0959f97daf7e",
   "metadata": {},
   "source": [
    "# Final Project Group 3"
   ]
  },
  {
   "cell_type": "code",
   "execution_count": 1,
   "id": "320c1b44-6a1e-4662-926d-d2c27bbf1750",
   "metadata": {},
   "outputs": [
    {
     "name": "stderr",
     "output_type": "stream",
     "text": [
      "\n",
      "Attaching package: ‘dplyr’\n",
      "\n",
      "\n",
      "The following objects are masked from ‘package:stats’:\n",
      "\n",
      "    filter, lag\n",
      "\n",
      "\n",
      "The following objects are masked from ‘package:base’:\n",
      "\n",
      "    intersect, setdiff, setequal, union\n",
      "\n",
      "\n",
      "── \u001b[1mAttaching core tidyverse packages\u001b[22m ──────────────────────── tidyverse 2.0.0 ──\n",
      "\u001b[32m✔\u001b[39m \u001b[34mforcats  \u001b[39m 1.0.0     \u001b[32m✔\u001b[39m \u001b[34mreadr    \u001b[39m 2.1.5\n",
      "\u001b[32m✔\u001b[39m \u001b[34mggplot2  \u001b[39m 3.5.1     \u001b[32m✔\u001b[39m \u001b[34mstringr  \u001b[39m 1.5.1\n",
      "\u001b[32m✔\u001b[39m \u001b[34mlubridate\u001b[39m 1.9.3     \u001b[32m✔\u001b[39m \u001b[34mtibble   \u001b[39m 3.2.1\n",
      "\u001b[32m✔\u001b[39m \u001b[34mpurrr    \u001b[39m 1.0.2     \u001b[32m✔\u001b[39m \u001b[34mtidyr    \u001b[39m 1.3.1\n",
      "── \u001b[1mConflicts\u001b[22m ────────────────────────────────────────── tidyverse_conflicts() ──\n",
      "\u001b[31m✖\u001b[39m \u001b[34mdplyr\u001b[39m::\u001b[32mfilter()\u001b[39m masks \u001b[34mstats\u001b[39m::filter()\n",
      "\u001b[31m✖\u001b[39m \u001b[34mdplyr\u001b[39m::\u001b[32mlag()\u001b[39m    masks \u001b[34mstats\u001b[39m::lag()\n",
      "\u001b[36mℹ\u001b[39m Use the conflicted package (\u001b[3m\u001b[34m<http://conflicted.r-lib.org/>\u001b[39m\u001b[23m) to force all conflicts to become errors\n",
      "Loading required package: carData\n",
      "\n",
      "\n",
      "Attaching package: ‘car’\n",
      "\n",
      "\n",
      "The following object is masked from ‘package:purrr’:\n",
      "\n",
      "    some\n",
      "\n",
      "\n",
      "The following object is masked from ‘package:dplyr’:\n",
      "\n",
      "    recode\n",
      "\n",
      "\n"
     ]
    }
   ],
   "source": [
    "library(dplyr)\n",
    "library(tidyverse)\n",
    "library(ggplot2)\n",
    "library(patchwork)\n",
    "library(dplyr)\n",
    "library(leaps)\n",
    "library(car)"
   ]
  },
  {
   "cell_type": "markdown",
   "id": "f6c25558-9e4d-47d0-a230-32cf0d23db93",
   "metadata": {},
   "source": [
    "## (1) Introduction\n",
    "Start with relevant background information on the topic to prepare those unfamiliar for the rest of your proposal.\n",
    "\n",
    "Formulate one or two questions for investigation and detail the dataset that will be utilized to address these questions.\n",
    "\n",
    "Additionally, align your question/objectives with the existing literature. To contextualize your study, include a minimum of two scientific publications (these should be listed in the References section)."
   ]
  },
  {
   "cell_type": "markdown",
   "id": "a64d53bf-4170-4dd5-9d60-90544fdfd133",
   "metadata": {},
   "source": [
    "Tipping is a social norm in North America and many research looked into factors affecting tipping behavior. Lynn and McCall (2000) investigated how service quality ratings affect tipping amount, as expected, they found positive correlation. However, this is not the whole picture, Lynn pointed out there are other factors such as costomer mood, also contributing to changes in tipping amount. Data from the US(Peck and Deehan, 2024) shows tips make up on average, 22.6% of a restaurant workers' income. Thus it is important to try to analyze and understand what affect tipping behavior so workers could make changes and potentially earn more."
   ]
  },
  {
   "cell_type": "markdown",
   "id": "49ca667e-7350-432d-b6b8-3ca2309940b5",
   "metadata": {},
   "source": [
    "We are given dataset `tips.csv` from https://www.kaggle.com/datasets/saurabhbadole/restaurant-tips-dataset, and the variables are:"
   ]
  },
  {
   "cell_type": "markdown",
   "id": "573e8c47-a732-4257-a2f6-4ed76e73005b",
   "metadata": {},
   "source": [
    "1. `total_bill`:Total bill amount in dollars.         _numerical_\n",
    "2. `tip`: Tip amount in dollars.                      _numerical_\n",
    "4. `sex`:Gender of the costomer paying.               _Male or Female, binary_\n",
    "5. `smoker`: Whether the costomer paying is a smoker. _Yes or no, binary_\n",
    "6. `day`: Day of the week of the transaction.         _Thur/Fri/Sat/Sun, categorical_\n",
    "7. `time`:Time of day of transaction.                 _Lunch/Dinner, binary_\n",
    "8. `size`:Size of the dining party.                   _numerical_"
   ]
  },
  {
   "cell_type": "markdown",
   "id": "8d437fbb-55de-4f78-a62b-1c282316b497",
   "metadata": {},
   "source": [
    "### Research Question:"
   ]
  },
  {
   "cell_type": "markdown",
   "id": "165044c7-dc29-4ad5-9053-7476890d674f",
   "metadata": {},
   "source": [
    "Which factors from total bill amount, sex, smoker or not, day, time and party size determine tip percentage? (Feel free to adjust the wording if needed)"
   ]
  },
  {
   "cell_type": "markdown",
   "id": "7f0e445f-dbaa-494e-9a42-8923b44d6d08",
   "metadata": {},
   "source": [
    "## (2) Methods and Results\n",
    "In this section, you will include:\n",
    "\n",
    "a) “Exploratory Data Analysis (EDA)”\n",
    "\n",
    "Demonstrate that the dataset can be read into R.\n",
    "Clean and wrangle your data into a tidy format.\n",
    "Plot the relevant raw data, tailoring your plot to address your question.\n",
    "Make sure to explore the association of the explanatory variables with the response.\n",
    "Any summary tables that are relevant to your analysis.\n",
    "Be sure not to print output that takes up a lot of screen space.\n",
    "Your EDA must be comprehensive with high quality plots.\n",
    "\n"
   ]
  },
  {
   "cell_type": "markdown",
   "id": "5051cd26-e28d-40e9-a45b-5e6406fe7ecb",
   "metadata": {},
   "source": [
    "### a) EDA"
   ]
  },
  {
   "cell_type": "code",
   "execution_count": null,
   "id": "923f67e6-e512-4120-a7ee-962230190039",
   "metadata": {},
   "outputs": [],
   "source": []
  },
  {
   "cell_type": "code",
   "execution_count": 24,
   "id": "1b7de182-c14e-404e-ae2c-f8ef461daf4c",
   "metadata": {},
   "outputs": [
    {
     "data": {
      "text/html": [
       "<table class=\"dataframe\">\n",
       "<caption>A data.frame: 6 × 2</caption>\n",
       "<thead>\n",
       "\t<tr><th scope=col>size</th><th scope=col>n</th></tr>\n",
       "\t<tr><th scope=col>&lt;fct&gt;</th><th scope=col>&lt;int&gt;</th></tr>\n",
       "</thead>\n",
       "<tbody>\n",
       "\t<tr><td>1</td><td>  4</td></tr>\n",
       "\t<tr><td>2</td><td>156</td></tr>\n",
       "\t<tr><td>3</td><td> 38</td></tr>\n",
       "\t<tr><td>4</td><td> 37</td></tr>\n",
       "\t<tr><td>5</td><td>  5</td></tr>\n",
       "\t<tr><td>6</td><td>  4</td></tr>\n",
       "</tbody>\n",
       "</table>\n"
      ],
      "text/latex": [
       "A data.frame: 6 × 2\n",
       "\\begin{tabular}{ll}\n",
       " size & n\\\\\n",
       " <fct> & <int>\\\\\n",
       "\\hline\n",
       "\t 1 &   4\\\\\n",
       "\t 2 & 156\\\\\n",
       "\t 3 &  38\\\\\n",
       "\t 4 &  37\\\\\n",
       "\t 5 &   5\\\\\n",
       "\t 6 &   4\\\\\n",
       "\\end{tabular}\n"
      ],
      "text/markdown": [
       "\n",
       "A data.frame: 6 × 2\n",
       "\n",
       "| size &lt;fct&gt; | n &lt;int&gt; |\n",
       "|---|---|\n",
       "| 1 |   4 |\n",
       "| 2 | 156 |\n",
       "| 3 |  38 |\n",
       "| 4 |  37 |\n",
       "| 5 |   5 |\n",
       "| 6 |   4 |\n",
       "\n"
      ],
      "text/plain": [
       "  size n  \n",
       "1 1      4\n",
       "2 2    156\n",
       "3 3     38\n",
       "4 4     37\n",
       "5 5      5\n",
       "6 6      4"
      ]
     },
     "metadata": {},
     "output_type": "display_data"
    }
   ],
   "source": [
    "# Main developer: Dominique\n",
    "# Contributer: Tara (created git link)\n",
    "url <- \"https://raw.githubusercontent.com/tarauboviccc/stat301_project/main/tips.csv\" \n",
    "dt_tip <- read.csv(url) \n",
    "tip<-dt_tip|>mutate(size=factor(size),\n",
    "                    sex=as.factor(sex),\n",
    "                    smoker=as.factor(smoker),\n",
    "                    time=as.factor(time),\n",
    "          tip_pct=tip/total_bill)\n",
    "tip|>count(size)"
   ]
  },
  {
   "cell_type": "markdown",
   "id": "ecac606a-2012-4713-bc2d-8f188fc127d3",
   "metadata": {},
   "source": [
    "* As number of observations from party size of more than two people are limited, we could combine `size` into two levels: 2- or 2+"
   ]
  },
  {
   "cell_type": "code",
   "execution_count": 25,
   "id": "a47360c6-9f67-4556-b5e2-e896fe5850e2",
   "metadata": {},
   "outputs": [
    {
     "data": {
      "text/html": [
       "<table class=\"dataframe\">\n",
       "<caption>A data.frame: 2 × 2</caption>\n",
       "<thead>\n",
       "\t<tr><th scope=col>size</th><th scope=col>n</th></tr>\n",
       "\t<tr><th scope=col>&lt;fct&gt;</th><th scope=col>&lt;int&gt;</th></tr>\n",
       "</thead>\n",
       "<tbody>\n",
       "\t<tr><td>2-</td><td>160</td></tr>\n",
       "\t<tr><td>2+</td><td> 84</td></tr>\n",
       "</tbody>\n",
       "</table>\n"
      ],
      "text/latex": [
       "A data.frame: 2 × 2\n",
       "\\begin{tabular}{ll}\n",
       " size & n\\\\\n",
       " <fct> & <int>\\\\\n",
       "\\hline\n",
       "\t 2- & 160\\\\\n",
       "\t 2+ &  84\\\\\n",
       "\\end{tabular}\n"
      ],
      "text/markdown": [
       "\n",
       "A data.frame: 2 × 2\n",
       "\n",
       "| size &lt;fct&gt; | n &lt;int&gt; |\n",
       "|---|---|\n",
       "| 2- | 160 |\n",
       "| 2+ |  84 |\n",
       "\n"
      ],
      "text/plain": [
       "  size n  \n",
       "1 2-   160\n",
       "2 2+    84"
      ]
     },
     "metadata": {},
     "output_type": "display_data"
    }
   ],
   "source": [
    "#Main Contributer: Dominique\n",
    "tip <- tip %>%\n",
    "    mutate(size = fct_collapse(size, '2-'=c('1','2'),'2+' = c('3','4','5','6')))\n",
    "\n",
    "tip %>% count(size, sort = TRUE)"
   ]
  },
  {
   "cell_type": "code",
   "execution_count": null,
   "id": "4ce659d3-69e8-4f83-8f99-a6ddecd9b3c6",
   "metadata": {},
   "outputs": [
    {
     "name": "stderr",
     "output_type": "stream",
     "text": [
      "\u001b[1m\u001b[22m`geom_smooth()` using formula = 'y ~ x'\n"
     ]
    }
   ],
   "source": [
    "options(repr.plot.width = 8, repr.plot.height = 8)\n",
    "\n",
    "tip_explore_plot <- \n",
    "    tip |>\n",
    "    ggplot(aes(x = day, y = tip_pct, color = time))+\n",
    "    geom_point()+\n",
    "    stat_summary(fun = mean, geom = \"crossbar\", width = 0.5, color = \"black\")+\n",
    "    scale_color_manual(values = c(\"Lunch\" = \"lightgreen\", \"Dinner\" = \"darkgreen\")) +\n",
    "    labs(title=\"Tip percent vs. Day and Time of week\",\n",
    "         x=\"Day of the week\",\n",
    "         y=\"Tip Percent\")\n",
    "\n",
    "tip_box_plot <- tip |>\n",
    "  ggplot(aes(x = smoker, y = tip_pct, fill = smoker)) +\n",
    "  geom_boxplot() +\n",
    "  stat_summary(fun = mean, geom = \"point\", shape = 20, size = 3, color = \"black\") +\n",
    "  scale_fill_manual(values = c(\"Yes\" = \"lightgray\", \"No\" = \"pink\")) +\n",
    "  labs(title = \"Average Tip percent vs. Smokers\",\n",
    "       x = \"Smoker\",\n",
    "       y = \"Tip Percent\")\n",
    "\n",
    "curve_plot <- tip |>\n",
    "  ggplot(aes(x = total_bill, y = tip_pct)) +\n",
    "  geom_point(aes(size = size, alpha = size), color = \"pink\") +\n",
    "  geom_smooth(method = \"loess\", se = FALSE, color = \"lightgreen\") +\n",
    "  scale_alpha_continuous(range = c(0.2, 0.5)) +\n",
    "  scale_size_continuous(range = c(1, 6)) +\n",
    "  labs(title = \"Tip Percent vs Total Bill with Party Size\",\n",
    "       x = \"Total Bill\",\n",
    "       y = \"Tip Percent\")\n",
    "\n",
    "gender_violin_plot <- tip |>\n",
    "  ggplot(aes(x = sex, y = tip_pct, fill = sex)) +\n",
    "  geom_violin(trim = FALSE, alpha = 0.5) +\n",
    "  geom_boxplot(width = 0.1, outlier.shape = NA) +\n",
    "  scale_fill_manual(values = c(\"Female\" = \"salmon\", \"Male\" = \"lightblue\"))+\n",
    "  labs(title = \"Tip Percent Distribution by Sex\",\n",
    "       x = \"Sex\",\n",
    "       y = \"Tip Percent\")\n",
    "       \n",
    "\n",
    "combined_plot <-  (tip_explore_plot + tip_box_plot) / (curve_plot + gender_violin_plot)\n",
    "combined_plot"
   ]
  },
  {
   "cell_type": "markdown",
   "id": "a0ed6aac-bce9-494b-ac5c-648d8716465c",
   "metadata": {},
   "source": [
    "b) “Methods: Plan”\n",
    "\n",
    "Describe in written English the methods you used to perform your analysis from beginning to end, and narrate the code that does the analysis.\n",
    "If included, describe the “Feature Selection” process and how and why you choose the covariates of your final model.\n",
    "Make sure to interpret/explain the results you obtain. It’s not enough to just say, “I fitted a linear model with these covariates, and my R-square is 0.87”.\n",
    "If inference is the aim of your project, a detailed interpretation of your fitted model is required, as well as a discussion of relevant quantities (e.g., are the coefficients significant? How does the model fit the data)?\n",
    "A careful model assessment must be conducted.\n",
    "If prediction is the project's aim, describe the test data used or how it was created.\n",
    "Ensure your tables and/or figures are labelled with a figure/table number."
   ]
  },
  {
   "cell_type": "code",
   "execution_count": null,
   "id": "2950ddc7-5ce3-42ac-92e9-1f8fc8b1dc1e",
   "metadata": {},
   "outputs": [],
   "source": []
  },
  {
   "cell_type": "code",
   "execution_count": null,
   "id": "257a43d9-c212-4651-a573-af7254690099",
   "metadata": {},
   "outputs": [],
   "source": []
  },
  {
   "cell_type": "markdown",
   "id": "fd951a7f-04be-415b-8ee5-1065bbc2c562",
   "metadata": {},
   "source": [
    "## (3) Discussion\n",
    "In this section, you’ll interpret the results you obtained in the previous section with respect to the main question/goal of your project.\n",
    "\n",
    "Summarize what you found and the implications/impact of your findings.\n",
    "If relevant, discuss whether your results were what you expected to find.\n",
    "Discuss how your model could be improved;\n",
    "Discuss future questions/research this study could lead to."
   ]
  },
  {
   "cell_type": "code",
   "execution_count": null,
   "id": "6bce6b26-5fba-4a38-82b4-cc616f93810b",
   "metadata": {},
   "outputs": [],
   "source": []
  },
  {
   "cell_type": "code",
   "execution_count": null,
   "id": "10a6c114-baca-4bed-85a1-ca1b2a5c478b",
   "metadata": {},
   "outputs": [],
   "source": []
  },
  {
   "cell_type": "code",
   "execution_count": null,
   "id": "fad83855-18de-4674-9e74-60ddc0a04e8d",
   "metadata": {},
   "outputs": [],
   "source": []
  },
  {
   "cell_type": "code",
   "execution_count": null,
   "id": "b56808ef-77d9-4bf4-b9c9-ac3a2132e5ef",
   "metadata": {},
   "outputs": [],
   "source": []
  },
  {
   "cell_type": "markdown",
   "id": "2415bd16-09a7-43e9-a730-4157d3a2801a",
   "metadata": {},
   "source": [
    "## (4) References\n",
    "At least two citations of literature relevant to the project. The citation format is your choice – just be consistent. Make sure to cite the source of your data as well.\n",
    "*I'm using MLA -Dominique"
   ]
  },
  {
   "cell_type": "markdown",
   "id": "8b3c6aee-c5c8-470f-9b24-925dd34f2d48",
   "metadata": {},
   "source": [
    "Lynn, M., & McCall, M. (2000). Gratitude and gratuity: A meta-analysis of research on the service–tipping relationship. The Journal of Socio-Economics, 29(2), 203–214. https://doi.org/10.1016/S1053-5357(00)00062-7\n",
    "\n",
    "Peck, E., & Deehan, M. (2024, November 18). Tips make up large share of Mass. Restaurant Workers’ pay - axios Boston. AXIOS Boston. https://www.axios.com/local/boston/2024/11/18/tips-restaurant-workers-pay-massachusetts "
   ]
  },
  {
   "cell_type": "code",
   "execution_count": null,
   "id": "ed215d3e-3ef4-471d-abce-122ca921b017",
   "metadata": {},
   "outputs": [],
   "source": []
  }
 ],
 "metadata": {
  "kernelspec": {
   "display_name": "R",
   "language": "R",
   "name": "ir"
  },
  "language_info": {
   "codemirror_mode": "r",
   "file_extension": ".r",
   "mimetype": "text/x-r-source",
   "name": "R",
   "pygments_lexer": "r",
   "version": "4.3.3"
  }
 },
 "nbformat": 4,
 "nbformat_minor": 5
}
